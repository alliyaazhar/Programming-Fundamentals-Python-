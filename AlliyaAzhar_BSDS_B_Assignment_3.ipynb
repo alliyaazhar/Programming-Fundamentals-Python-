{
 "cells": [
  {
   "cell_type": "markdown",
   "id": "a1112bb3",
   "metadata": {},
   "source": [
    "# Driver’s License Exam"
   ]
  },
  {
   "cell_type": "code",
   "execution_count": 2,
   "id": "5c9c69a0",
   "metadata": {},
   "outputs": [
    {
     "name": "stdout",
     "output_type": "stream",
     "text": [
      "Enter your ID: 234567\n",
      "All answers should be Capital with no spaces in between.\n",
      "Enter the answers: ABCBCDBCDADCBCDAADCB\n",
      "You could not pass the Exam\n",
      "Correctly Answered Questions:  2\n",
      "Incorrectly Answered Questions: 18\n",
      "Serial number of the incorrectly answered questions: [1, 2, 3, 4, 5, 6, 7, 8, 9, 10, 11, 12, 13, 15, 16, 17, 18, 19]\n"
     ]
    }
   ],
   "source": [
    "infile=open('test.txt','w')\n",
    "listt=list('ACAADBCACBADCADCBBDA')\n",
    "idd=input('Enter your ID: ')\n",
    "print('All answers should be Capital with no spaces in between.')\n",
    "test=input('Enter the answers: ')\n",
    "infile.write(\"DRIVER'S ID \\t \\t ANSWERS \\n\")\n",
    "infile.write('------------------------------ \\n')\n",
    "infile.write(idd+'\\t \\t')\n",
    "for i in test:\n",
    "    infile.write(i)\n",
    "infile.write('\\n')\n",
    "infile.close()\n",
    "marks=0\n",
    "nmarks=[]\n",
    "for i in range(20):\n",
    "    if test[i]==listt[i]:\n",
    "        marks+=1\n",
    "    if test[i]!=listt[i]:\n",
    "        nmarks.append(i)\n",
    "        \n",
    "        \n",
    " \n",
    "if marks>=15:\n",
    "    print('You passed the Exam!')\n",
    "else:\n",
    "    print('You could not pass the Exam')\n",
    "    \n",
    "print('Correctly Answered Questions: ',marks)\n",
    "print('Incorrectly Answered Questions:',20-marks)\n",
    "print('Serial number of the incorrectly answered questions:',nmarks)"
   ]
  },
  {
   "cell_type": "markdown",
   "id": "f7113421",
   "metadata": {},
   "source": [
    "# File Encryption and Decryption"
   ]
  },
  {
   "cell_type": "code",
   "execution_count": 1,
   "id": "5e6c9433",
   "metadata": {},
   "outputs": [
    {
     "name": "stdout",
     "output_type": "stream",
     "text": [
      "Do you want to encrypt a message or a text file? m/f :f\n",
      "Enter the files name (case sensitive): CountryCapital\n"
     ]
    }
   ],
   "source": [
    "alph={'A':'%','a':'9','B':'@','b':'#','C':'!','c':'$','D':'^','d':'&','E':'8','e':'+','F':'?','f':':','G':'-','g':';','H':'|','h':'=','I':'~','i':'/','J':'`','j':'3','K':'(','k':')','L':'}','l':'{','M':'[','m':']','N':',','n':'\\/','O':'<','o':'>','P':'`','p':'4','Q':'0','q':'1','R':'5','r':'6','S':'\\\\','s':'++','T':'~~','t':'::','U':'8','u':'.','V':',,','v':'11','W':'00','w':'??','X':';;','x':'@@','Y':'**','y':'<>','Z':'22','z':'&&'}\n",
    "typ=input('Do you want to encrypt a message or a text file? m/f :')\n",
    "if typ=='m' or typ=='M':\n",
    "    mat=input('Enter a text: ')\n",
    "    infile=open('decrypted .txt','w')\n",
    "    infile.write(mat)\n",
    "    infile.close()\n",
    "    outfile=open('encrypted.txt','w')\n",
    "    outfile.write('KEY'+'\\n')\n",
    "    outfile.write('----------------------------------------------------------------------------------------------------------------------------------')\n",
    "    outfile.write('\\n')\n",
    "    for i in range(65,91):\n",
    "        for j in alph:\n",
    "            if chr(i)==j:\n",
    "                outfile.write(chr(i)+':'+alph[j]+'  ')\n",
    "    outfile.write('\\n')\n",
    "    for i in range(97,124):\n",
    "        for j in alph:\n",
    "            if chr(i)==j:\n",
    "                outfile.write(chr(i)+':'+alph[j]+'  ')\n",
    "    outfile.write('\\n')\n",
    "    outfile.write('----------------------------------------------------------------------------------------------------------------------------------')\n",
    "    outfile.write('\\n')\n",
    "    infile=open('decrypted .txt','r')\n",
    "    for i in infile:\n",
    "        for j in i:\n",
    "            if j in alph:\n",
    "                outfile.write(alph[j])\n",
    "            if j==' ':\n",
    "                outfile.write(' ')\n",
    "     \n",
    "    infile.close()\n",
    "    outfile.close()\n",
    "\n",
    "if typ=='f' or typ=='F':\n",
    "    file=input('Enter the files name (case sensitive): ')\n",
    "    outtfile=open('encrypted.txt','w')\n",
    "    outtfile.write('KEY'+'\\n')\n",
    "    outtfile.write('----------------------------------------------------------------------------------------------------------------------------------')\n",
    "    outtfile.write('\\n')\n",
    "    for i in range(65,91):\n",
    "        for j in alph:\n",
    "            if chr(i)==j:\n",
    "                outtfile.write(chr(i)+':'+alph[j]+'  ')\n",
    "    outtfile.write('\\n')\n",
    "    for i in range(97,124):\n",
    "        for j in alph:\n",
    "            if chr(i)==j:\n",
    "                outtfile.write(chr(i)+':'+alph[j]+'  ')\n",
    "    outtfile.write('\\n')\n",
    "    outtfile.write('----------------------------------------------------------------------------------------------------------------------------------')\n",
    "    outtfile.write('\\n')\n",
    "    innfile=open(file+'.txt','r')\n",
    "    for i in innfile:\n",
    "        for j in i:\n",
    "            if j in alph:\n",
    "                outtfile.write(alph[j])\n",
    "            if j==' ':\n",
    "                outtfile.write(' ')\n",
    "     \n",
    "    innfile.close()\n",
    "    outtfile.close()\n",
    "    "
   ]
  },
  {
   "cell_type": "markdown",
   "id": "dd636495",
   "metadata": {},
   "source": [
    "# World Series Winners"
   ]
  },
  {
   "cell_type": "code",
   "execution_count": 65,
   "id": "54cea399",
   "metadata": {},
   "outputs": [
    {
     "name": "stdout",
     "output_type": "stream",
     "text": [
      "Enter a year between 1903-2011: 2005\n",
      "Chicago White So won the World Series in the year 2005 .\n"
     ]
    }
   ],
   "source": [
    "infile=open('WorldSeriesWinners.txt','r')\n",
    "lis=[]\n",
    "for i in infile:\n",
    "    i=i[5:-2]\n",
    "    lis.append(i)\n",
    "outfile=open('frequency.txt','w')\n",
    "com=[]\n",
    "for j in lis:\n",
    "    if j not in com and j!='':\n",
    "        outfile.write(j)\n",
    "        outfile.write(' : ')\n",
    "        outfile.write(str(lis.count(j)))\n",
    "        outfile.write('\\n')\n",
    "    com.append(j)\n",
    "outfile.close()\n",
    "dic={}\n",
    "file=open('years.txt','w')\n",
    "n=0\n",
    "for z in range(1903,2012):\n",
    "    dic[z]=lis[n]\n",
    "    n+=1\n",
    "    \n",
    "ques=int(input('Enter a year between 1903-2011: '))\n",
    "print(dic[ques],'won the World Series in the year',ques,'.')\n",
    "infile.close()\n",
    "file.close()"
   ]
  }
 ],
 "metadata": {
  "kernelspec": {
   "display_name": "Python 3 (ipykernel)",
   "language": "python",
   "name": "python3"
  },
  "language_info": {
   "codemirror_mode": {
    "name": "ipython",
    "version": 3
   },
   "file_extension": ".py",
   "mimetype": "text/x-python",
   "name": "python",
   "nbconvert_exporter": "python",
   "pygments_lexer": "ipython3",
   "version": "3.11.5"
  }
 },
 "nbformat": 4,
 "nbformat_minor": 5
}
